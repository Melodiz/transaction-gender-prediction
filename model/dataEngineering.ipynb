{
 "cells": [
  {
   "cell_type": "code",
   "execution_count": 114,
   "metadata": {},
   "outputs": [],
   "source": [
    "import pandas as pd\n",
    "import numpy as np\n",
    "import plotly.express as px\n",
    "import re\n",
    "from sklearn.preprocessing import StandardScaler"
   ]
  },
  {
   "cell_type": "code",
   "execution_count": 115,
   "metadata": {},
   "outputs": [],
   "source": [
    "DATA_SUB_DIR = '../data/'\n",
    "\n",
    "# Load data\n",
    "df_transactions = pd.read_csv(DATA_SUB_DIR + 'transactions.csv', sep=',')\n",
    "df_mcc_codes = pd.read_csv(DATA_SUB_DIR +'mcc_codes.csv', sep=';')\n",
    "df_trans_types = pd.read_csv(DATA_SUB_DIR + 'trans_types.csv', sep=';')\n",
    "df_train = pd.read_csv(DATA_SUB_DIR + 'train.csv', sep=',', index_col='client_id').drop('Unnamed: 0', axis=1)"
   ]
  },
  {
   "cell_type": "code",
   "execution_count": 116,
   "metadata": {},
   "outputs": [
    {
     "name": "stdout",
     "output_type": "stream",
     "text": [
      "<class 'pandas.core.frame.DataFrame'>\n",
      "RangeIndex: 3563529 entries, 0 to 3563528\n",
      "Data columns (total 7 columns):\n",
      " #   Column      Dtype  \n",
      "---  ------      -----  \n",
      " 0   client_id   object \n",
      " 1   trans_time  object \n",
      " 2   mcc_code    int64  \n",
      " 3   trans_type  int64  \n",
      " 4   amount      float64\n",
      " 5   term_id     object \n",
      " 6   trans_city  object \n",
      "dtypes: float64(1), int64(2), object(4)\n",
      "memory usage: 190.3+ MB\n"
     ]
    }
   ],
   "source": [
    "df_transactions.info()"
   ]
  },
  {
   "cell_type": "code",
   "execution_count": 117,
   "metadata": {},
   "outputs": [
    {
     "name": "stdout",
     "output_type": "stream",
     "text": [
      "          interval  num_outliers  percentage_outliers\n",
      "0  (-39000, 39000)         32706                0.918\n",
      "1  (-42000, 42000)         30529                0.857\n",
      "2  (-45000, 45000)         27808                0.780\n",
      "3  (-48000, 48000)         26442                0.742\n",
      "4  (-51000, 51000)         24398                0.685\n",
      "5  (-54000, 54000)         23719                0.666\n",
      "6  (-57000, 57000)         22617                0.635\n"
     ]
    }
   ],
   "source": [
    "# Define a range of intervals to evaluate\n",
    "intervals = [(-x*3_000, x*3_000) for x in range(13, 20)]\n",
    "\n",
    "# Function to evaluate outliers for a given interval\n",
    "def evaluate_outliers(df, interval):\n",
    "    lower_bound, upper_bound = interval\n",
    "    outliers = df[(df['amount'] < lower_bound) | (df['amount'] > upper_bound)]\n",
    "    num_outliers = len(outliers)\n",
    "    percentage_outliers = num_outliers / len(df) * 100\n",
    "    return num_outliers, percentage_outliers\n",
    "\n",
    "# Evaluate each interval\n",
    "results = []\n",
    "for interval in intervals:\n",
    "    num_outliers, percentage_outliers = evaluate_outliers(df_transactions, interval)\n",
    "    results.append({\n",
    "        'interval': interval,\n",
    "        'num_outliers': num_outliers,\n",
    "        'percentage_outliers': round(percentage_outliers, 3)\n",
    "    })\n",
    "\n",
    "# Convert results to DataFrame for easy visualization\n",
    "df_results = pd.DataFrame(results)\n",
    "\n",
    "# Print results\n",
    "print(df_results)\n",
    "# clar memory fom new temporary variables\n",
    "del num_outliers, percentage_outliers, results, intervals, df_results, interval"
   ]
  },
  {
   "cell_type": "markdown",
   "metadata": {},
   "source": [
    "it looks like the interval (-50_000, 50_000) is a good compromise for identifying outliers in the 'amount' column. "
   ]
  },
  {
   "cell_type": "code",
   "execution_count": 118,
   "metadata": {},
   "outputs": [],
   "source": [
    "# so drop the ouliers outs of this interval from the transactions dataframe.\n",
    "df_transactions = df_transactions[(df_transactions['amount'] >= -50_000) & (df_transactions['amount'] <= 50_000)]"
   ]
  },
  {
   "cell_type": "markdown",
   "metadata": {},
   "source": [
    "lets format the time of transaction"
   ]
  },
  {
   "cell_type": "code",
   "execution_count": 119,
   "metadata": {},
   "outputs": [],
   "source": [
    "\n",
    "df_transactions['day'] = df_transactions['trans_time'].str.split().apply(lambda x: int(x[0]) % 7)\n",
    "df_transactions['hour'] = df_transactions['trans_time'].apply(lambda x: int(x.split()[1].split(':')[0]))\n",
    "df_transactions['is_night'] = df_transactions['hour'].apply(lambda x: 1 if x >= 22 or x <= 6 else 0)\n",
    "# also drop term_id since it's not informative for this analysis\n",
    "df_transactions.drop('term_id', axis=1, inplace=True)"
   ]
  },
  {
   "cell_type": "code",
   "execution_count": 120,
   "metadata": {},
   "outputs": [],
   "source": [
    "df_transactions = pd.get_dummies(df_transactions, columns=['mcc_code'])\n",
    "df_transactions = pd.get_dummies(df_transactions, columns=['trans_type'])"
   ]
  },
  {
   "cell_type": "code",
   "execution_count": 121,
   "metadata": {},
   "outputs": [
    {
     "name": "stderr",
     "output_type": "stream",
     "text": [
      "/var/folders/mk/pn_xz2mj3n7_55rszn3mpjb00000gn/T/ipykernel_21786/3528088338.py:9: FutureWarning: In the future `np.bool` will be defined as the corresponding NumPy scalar.\n",
      "  upper = corr_matrix.where(np.triu(np.ones(corr_matrix.shape), k=1).astype(np.bool))\n"
     ]
    },
    {
     "ename": "AttributeError",
     "evalue": "module 'numpy' has no attribute 'bool'.\n`np.bool` was a deprecated alias for the builtin `bool`. To avoid this error in existing code, use `bool` by itself. Doing this will not modify any behavior and is safe. If you specifically wanted the numpy scalar type, use `np.bool_` here.\nThe aliases was originally deprecated in NumPy 1.20; for more details and guidance see the original release note at:\n    https://numpy.org/devdocs/release/1.20.0-notes.html#deprecations",
     "output_type": "error",
     "traceback": [
      "\u001b[0;31m---------------------------------------------------------------------------\u001b[0m",
      "\u001b[0;31mAttributeError\u001b[0m                            Traceback (most recent call last)",
      "Cell \u001b[0;32mIn[121], line 9\u001b[0m\n\u001b[1;32m      6\u001b[0m \u001b[38;5;66;03m# Correlation Analysis: Remove highly correlated features to reduce multicollinearity.\u001b[39;00m\n\u001b[1;32m      8\u001b[0m corr_matrix \u001b[38;5;241m=\u001b[39m df_train\u001b[38;5;241m.\u001b[39mcorr()\u001b[38;5;241m.\u001b[39mabs()\n\u001b[0;32m----> 9\u001b[0m upper \u001b[38;5;241m=\u001b[39m corr_matrix\u001b[38;5;241m.\u001b[39mwhere(np\u001b[38;5;241m.\u001b[39mtriu(np\u001b[38;5;241m.\u001b[39mones(corr_matrix\u001b[38;5;241m.\u001b[39mshape), k\u001b[38;5;241m=\u001b[39m\u001b[38;5;241m1\u001b[39m)\u001b[38;5;241m.\u001b[39mastype(np\u001b[38;5;241m.\u001b[39mbool))\n\u001b[1;32m     10\u001b[0m to_drop \u001b[38;5;241m=\u001b[39m [column \u001b[38;5;28;01mfor\u001b[39;00m column \u001b[38;5;129;01min\u001b[39;00m upper\u001b[38;5;241m.\u001b[39mcolumns \u001b[38;5;28;01mif\u001b[39;00m \u001b[38;5;28many\u001b[39m(upper[column] \u001b[38;5;241m>\u001b[39m \u001b[38;5;241m0.95\u001b[39m)]\n\u001b[1;32m     11\u001b[0m df_train\u001b[38;5;241m.\u001b[39mdrop(to_drop, axis\u001b[38;5;241m=\u001b[39m\u001b[38;5;241m1\u001b[39m, inplace\u001b[38;5;241m=\u001b[39m\u001b[38;5;28;01mTrue\u001b[39;00m)\n",
      "File \u001b[0;32m/opt/homebrew/anaconda3/lib/python3.11/site-packages/numpy/__init__.py:324\u001b[0m, in \u001b[0;36m__getattr__\u001b[0;34m(attr)\u001b[0m\n\u001b[1;32m    319\u001b[0m     warnings\u001b[38;5;241m.\u001b[39mwarn(\n\u001b[1;32m    320\u001b[0m         \u001b[38;5;124mf\u001b[39m\u001b[38;5;124m\"\u001b[39m\u001b[38;5;124mIn the future `np.\u001b[39m\u001b[38;5;132;01m{\u001b[39;00mattr\u001b[38;5;132;01m}\u001b[39;00m\u001b[38;5;124m` will be defined as the \u001b[39m\u001b[38;5;124m\"\u001b[39m\n\u001b[1;32m    321\u001b[0m         \u001b[38;5;124m\"\u001b[39m\u001b[38;5;124mcorresponding NumPy scalar.\u001b[39m\u001b[38;5;124m\"\u001b[39m, \u001b[38;5;167;01mFutureWarning\u001b[39;00m, stacklevel\u001b[38;5;241m=\u001b[39m\u001b[38;5;241m2\u001b[39m)\n\u001b[1;32m    323\u001b[0m \u001b[38;5;28;01mif\u001b[39;00m attr \u001b[38;5;129;01min\u001b[39;00m __former_attrs__:\n\u001b[0;32m--> 324\u001b[0m     \u001b[38;5;28;01mraise\u001b[39;00m \u001b[38;5;167;01mAttributeError\u001b[39;00m(__former_attrs__[attr])\n\u001b[1;32m    326\u001b[0m \u001b[38;5;28;01mif\u001b[39;00m attr \u001b[38;5;241m==\u001b[39m \u001b[38;5;124m'\u001b[39m\u001b[38;5;124mtesting\u001b[39m\u001b[38;5;124m'\u001b[39m:\n\u001b[1;32m    327\u001b[0m     \u001b[38;5;28;01mimport\u001b[39;00m \u001b[38;5;21;01mnumpy\u001b[39;00m\u001b[38;5;21;01m.\u001b[39;00m\u001b[38;5;21;01mtesting\u001b[39;00m \u001b[38;5;28;01mas\u001b[39;00m \u001b[38;5;21;01mtesting\u001b[39;00m\n",
      "\u001b[0;31mAttributeError\u001b[0m: module 'numpy' has no attribute 'bool'.\n`np.bool` was a deprecated alias for the builtin `bool`. To avoid this error in existing code, use `bool` by itself. Doing this will not modify any behavior and is safe. If you specifically wanted the numpy scalar type, use `np.bool_` here.\nThe aliases was originally deprecated in NumPy 1.20; for more details and guidance see the original release note at:\n    https://numpy.org/devdocs/release/1.20.0-notes.html#deprecations"
     ]
    }
   ],
   "source": [
    "# Scaling and Normalization\n",
    "scaler = StandardScaler()\n",
    "numerical_features = ['amount']\n",
    "df_transactions[numerical_features] = scaler.fit_transform(df_transactions[numerical_features])\n",
    "\n",
    "# Correlation Analysis: Remove highly correlated features to reduce multicollinearity.\n",
    "\n",
    "corr_matrix = df_train.corr().abs()\n",
    "upper = corr_matrix.where(np.triu(np.ones(corr_matrix.shape), k=1).astype(np.bool))\n",
    "to_drop = [column for column in upper.columns if any(upper[column] > 0.95)]\n",
    "df_train.drop(to_drop, axis=1, inplace=True)"
   ]
  },
  {
   "cell_type": "code",
   "execution_count": null,
   "metadata": {},
   "outputs": [
    {
     "ename": "NameError",
     "evalue": "name 'X' is not defined",
     "output_type": "error",
     "traceback": [
      "\u001b[0;31m---------------------------------------------------------------------------\u001b[0m",
      "\u001b[0;31mNameError\u001b[0m                                 Traceback (most recent call last)",
      "Cell \u001b[0;32mIn[113], line 3\u001b[0m\n\u001b[1;32m      1\u001b[0m \u001b[38;5;28;01mfrom\u001b[39;00m \u001b[38;5;21;01mimblearn\u001b[39;00m\u001b[38;5;21;01m.\u001b[39;00m\u001b[38;5;21;01mover_sampling\u001b[39;00m \u001b[38;5;28;01mimport\u001b[39;00m SMOTE\n\u001b[1;32m      2\u001b[0m smote \u001b[38;5;241m=\u001b[39m SMOTE()\n\u001b[0;32m----> 3\u001b[0m X_resampled, y_resampled \u001b[38;5;241m=\u001b[39m smote\u001b[38;5;241m.\u001b[39mfit_resample(X, y)\n",
      "\u001b[0;31mNameError\u001b[0m: name 'X' is not defined"
     ]
    }
   ],
   "source": []
  }
 ],
 "metadata": {
  "kernelspec": {
   "display_name": "base",
   "language": "python",
   "name": "python3"
  },
  "language_info": {
   "codemirror_mode": {
    "name": "ipython",
    "version": 3
   },
   "file_extension": ".py",
   "mimetype": "text/x-python",
   "name": "python",
   "nbconvert_exporter": "python",
   "pygments_lexer": "ipython3",
   "version": "3.11.7"
  }
 },
 "nbformat": 4,
 "nbformat_minor": 2
}
